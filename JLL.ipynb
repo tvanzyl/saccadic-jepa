{
 "cells": [
  {
   "cell_type": "code",
   "execution_count": 5,
   "metadata": {},
   "outputs": [],
   "source": [
    "import sys\n",
    "from time import time\n",
    "\n",
    "import numpy as np\n",
    "\n",
    "from sklearn.datasets import fetch_20newsgroups_vectorized, load_digits\n",
    "from sklearn.metrics.pairwise import euclidean_distances\n",
    "from sklearn.random_projection import (\n",
    "    SparseRandomProjection,\n",
    "    johnson_lindenstrauss_min_dim,\n",
    ")"
   ]
  },
  {
   "cell_type": "code",
   "execution_count": 6,
   "metadata": {},
   "outputs": [
    {
     "data": {
      "text/plain": [
       "array([ 258, 1279, 4753])"
      ]
     },
     "execution_count": 6,
     "metadata": {},
     "output_type": "execute_result"
    }
   ],
   "source": [
    "johnson_lindenstrauss_min_dim(256, eps=[0.51, 0.2, 0.1])"
   ]
  },
  {
   "cell_type": "code",
   "execution_count": 41,
   "metadata": {},
   "outputs": [
    {
     "name": "stdout",
     "output_type": "stream",
     "text": [
      "0.95\n"
     ]
    }
   ],
   "source": [
    "d = 1\n",
    "print(1-1/(2*10)**1)\n",
    "\n",
    "def JLL(N, eps, d=1):    \n",
    "    numer = 4*(d+1)*np.log(2*N)\n",
    "    denom = (1-2*eps/3)*eps**2 \n",
    "    return numer/denom\n",
    "\n",
    "def JLL_exist(N, eps):\n",
    "    return 15*np.log(N)/(eps**2)\n",
    "\n",
    "def JLL_needs(N, eps):\n",
    "    return np.log(N)/(eps**2)"
   ]
  },
  {
   "cell_type": "code",
   "execution_count": 42,
   "metadata": {},
   "outputs": [],
   "source": [
    "def JLL_eps(N, K):\n",
    "    scale = 10000\n",
    "    for i in range (1,scale):\n",
    "        if JLL(N, i/scale) > K:\n",
    "            continue\n",
    "        else:\n",
    "            return i/scale\n",
    "\n",
    "def JLL_exists_eps(N, K):\n",
    "    scale = 10000\n",
    "    for i in range (1,scale):\n",
    "        if JLL_exist(N, i/scale) > K:\n",
    "            continue\n",
    "        else:\n",
    "            return i/scale"
   ]
  },
  {
   "cell_type": "code",
   "execution_count": 43,
   "metadata": {},
   "outputs": [
    {
     "name": "stdout",
     "output_type": "stream",
     "text": [
      "0.3578 0.2357 0.2598\n",
      "0.5569 0.3252 0.3674\n",
      "0.241 0.3494 0.394\n"
     ]
    }
   ],
   "source": [
    "print(JLL_eps(256, 512), JLL_eps(10, 512), JLL_exists_eps(10, 512))\n",
    "print(JLL_eps(256, 256), JLL_eps(100, 512), JLL_exists_eps(100, 512))\n",
    "print(JLL_eps(256, 1024), JLL_eps(200, 512), JLL_exists_eps(200, 512))"
   ]
  },
  {
   "cell_type": "code",
   "execution_count": 44,
   "metadata": {},
   "outputs": [
    {
     "name": "stdout",
     "output_type": "stream",
     "text": [
      "128 0.8062\n",
      "256 0.5701\n",
      "512 0.4031\n",
      "1024 0.2851\n",
      "2048 0.2016\n",
      "4096 0.1426\n",
      "8192 0.1008\n",
      "16384 0.0713\n"
     ]
    }
   ],
   "source": [
    "for i in range(7,15):\n",
    "    print(2**i, JLL_exists_eps(256,2**i))"
   ]
  },
  {
   "cell_type": "code",
   "execution_count": null,
   "metadata": {},
   "outputs": [
    {
     "name": "stdout",
     "output_type": "stream",
     "text": [
      "0.2598\n",
      "0.3674\n",
      "0.394\n",
      "0.4499\n"
     ]
    }
   ],
   "source": [
    "for i in [10,100,200,1000]:\n",
    "    print(JLL_exists_eps(i, 512))"
   ]
  },
  {
   "cell_type": "code",
   "execution_count": 85,
   "metadata": {},
   "outputs": [
    {
     "data": {
      "text/plain": [
       "np.float64(99.872391330653)"
      ]
     },
     "execution_count": 85,
     "metadata": {},
     "output_type": "execute_result"
    }
   ],
   "source": [
    "d = 512\n",
    "vc = 1.8/4\n",
    "m=200\n",
    "# 3*(l)*vc*np.log((l)*vc)\n",
    "4*(1+0.1149)*np.sqrt(d)*m**(-1/(d+1))"
   ]
  },
  {
   "cell_type": "code",
   "execution_count": null,
   "metadata": {},
   "outputs": [
    {
     "data": {
      "text/plain": [
       "8.596130083249408e+132"
      ]
     },
     "execution_count": 8,
     "metadata": {},
     "output_type": "execute_result"
    }
   ],
   "source": []
  },
  {
   "cell_type": "code",
   "execution_count": null,
   "metadata": {},
   "outputs": [],
   "source": []
  }
 ],
 "metadata": {
  "kernelspec": {
   "display_name": "saccadic-jepa",
   "language": "python",
   "name": "python3"
  },
  "language_info": {
   "codemirror_mode": {
    "name": "ipython",
    "version": 3
   },
   "file_extension": ".py",
   "mimetype": "text/x-python",
   "name": "python",
   "nbconvert_exporter": "python",
   "pygments_lexer": "ipython3",
   "version": "3.11.11"
  }
 },
 "nbformat": 4,
 "nbformat_minor": 2
}
